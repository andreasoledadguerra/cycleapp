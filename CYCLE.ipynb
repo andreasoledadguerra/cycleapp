{
 "cells": [
  {
   "cell_type": "code",
   "execution_count": 6,
   "metadata": {},
   "outputs": [],
   "source": [
    "def day1_tasks():\n",
    "    mood = input(\"How are you feeling today?\")\n",
    "    print(f\"Today's mood: {mood.upper()}\")\n",
    "\n",
    "    foods = [\"dark chocolate\",\n",
    "             \"fruits\", \n",
    "             \"nuts\", \n",
    "             \"leafy green vegetables\", \n",
    "             \"ginger tea\", \n",
    "             \"turmeric latte\", \n",
    "             \"flaxseed oil\", \n",
    "             \"quinoa\", \n",
    "             \"lentils, beans\", \n",
    "             \"Peppermint tea\",\n",
    "             \"Tofu\"\n",
    "    ]\n",
    "    \n",
    "    no_foods = [\"sugar\", \n",
    "                \"coffee\", \n",
    "                \"salt\", \n",
    "                \"alcohol\",\n",
    "                \"spicy food\",\n",
    "                \"red meat\"\n",
    "    ]\n",
    "    print(\"\\n\".join(f\"You could eat {food}\" for food in foods))\n",
    "    print(\"\\n\".join(f\"Please, avoid {no_food}\" for no_food in no_foods))"
   ]
  },
  {
   "cell_type": "code",
   "execution_count": 7,
   "metadata": {},
   "outputs": [
    {
     "name": "stdout",
     "output_type": "stream",
     "text": [
      "Today's mood: TIRED\n",
      "You could eat dark chocolate\n",
      "You could eat fruits\n",
      "You could eat nuts\n",
      "You could eat leafy green vegetables\n",
      "You could eat ginger tea\n",
      "You could eat turmeric latte\n",
      "You could eat flaxseed oil\n",
      "You could eat quinoa\n",
      "You could eat lentils, beans\n",
      "You could eat Peppermint tea\n",
      "You could eat Tofu\n",
      "Please, avoid sugar\n",
      "Please, avoid coffee\n",
      "Please, avoid salt\n",
      "Please, avoid alcohol\n",
      "Please, avoid spicy food\n",
      "Please, avoid red meat\n"
     ]
    }
   ],
   "source": [
    "day1_tasks()"
   ]
  },
  {
   "cell_type": "code",
   "execution_count": null,
   "metadata": {},
   "outputs": [],
   "source": []
  }
 ],
 "metadata": {
  "kernelspec": {
   "display_name": "env",
   "language": "python",
   "name": "python3"
  },
  "language_info": {
   "codemirror_mode": {
    "name": "ipython",
    "version": 3
   },
   "file_extension": ".py",
   "mimetype": "text/x-python",
   "name": "python",
   "nbconvert_exporter": "python",
   "pygments_lexer": "ipython3",
   "version": "3.10.12"
  }
 },
 "nbformat": 4,
 "nbformat_minor": 2
}
